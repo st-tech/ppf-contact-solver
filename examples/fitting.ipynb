{
 "cells": [
  {
   "cell_type": "code",
   "execution_count": null,
   "id": "d1e26707-6880-4f55-aabb-157f95c64230",
   "metadata": {},
   "outputs": [],
   "source": [
    "# File: fitting.ipynb\n",
    "# Author: Ryoichi Ando (ryoichi.ando@zozo.com)\n",
    "# License: Apache v2.0"
   ]
  },
  {
   "cell_type": "code",
   "execution_count": null,
   "id": "49fa95ad-6a12-4d46-a102-3050e2bef2d4",
   "metadata": {},
   "outputs": [],
   "source": [
    "import os\n",
    "import random\n",
    "\n",
    "from frontend import App\n",
    "\n",
    "app = App.create(\"fitting\")\n",
    "\n",
    "codim_ipc_root = \"/tmp/Codim-IPC\"\n",
    "checkout_list = [\n",
    "    \"Projects/FEMShell/input/dress_knife\",\n",
    "    \"Projects/FEMShell/input/Rumba_Dancing\",\n",
    "]\n",
    "app.extra.sparse_clone(\n",
    "    \"https://github.com/ipc-sim/Codim-IPC\", codim_ipc_root, checkout_list\n",
    ")\n",
    "\n",
    "stage_path = os.path.join(codim_ipc_root, checkout_list[0], \"stage.obj\")\n",
    "body_path = os.path.join(codim_ipc_root, checkout_list[1], \"shell0.obj\")\n",
    "\n",
    "V, F, S = app.extra.load_CIPC_stitch_mesh(stage_path)\n",
    "app.asset.add.tri(\"dress\", V, F)\n",
    "app.asset.add.stitch(\"glue\", S)\n",
    "\n",
    "V, F = app.mesh.load_tri(body_path)\n",
    "app.asset.add.tri(\"body\", V, F)\n",
    "\n",
    "scene = app.scene.create()\n",
    "scene.add(\"dress\").stitch(\"glue\").rotate(-90, \"x\")\n",
    "\n",
    "jitter = 0.01 * random.random()\n",
    "body = scene.add(\"body\").at(0, -0.78 + jitter, 0).pin()\n",
    "body_dir = os.path.join(codim_ipc_root, checkout_list[1])\n",
    "frame = 1\n",
    "while True:\n",
    "    path = os.path.join(body_dir, f\"shell{frame}.obj\")\n",
    "    if os.path.exists(path):\n",
    "        V, _ = app.mesh.load_tri(path)\n",
    "        body.move_to(V, 0.5 + 0.025 * frame)\n",
    "        frame += 1\n",
    "    else:\n",
    "        break\n",
    "\n",
    "fixed = scene.build().report()\n",
    "fixed.preview(options={\"pin\": False})"
   ]
  },
  {
   "cell_type": "code",
   "execution_count": null,
   "id": "220de44e-60d3-4958-939f-1b270fdaefdc",
   "metadata": {},
   "outputs": [],
   "source": [
    "param = (\n",
    "    app.session.param()\n",
    "    .set(\"fitting\")\n",
    "    .set(\"dt\", 1e-3)\n",
    "    .set(\"frames\", 240)\n",
    "    .set(\"friction\", 0.0)\n",
    "    .set(\"model-shell\", \"arap\")\n",
    "    .set(\"contact-ghat\", 0.5e-3)\n",
    "    .set(\"strain-limit-tau\", 0.05)\n",
    "    .set(\"strain-limit-eps\", 0.05)\n",
    ")\n",
    "param.dyn(\"fitting\").time(0.15).hold().change(False)\n",
    "param.dyn(\"dt\").time(0.15).hold().change(0.01)\n",
    "\n",
    "session = app.session.create(fixed)"
   ]
  },
  {
   "cell_type": "code",
   "execution_count": null,
   "id": "0d75bab9-537f-4e4b-8463-e9b70fe59b8c",
   "metadata": {},
   "outputs": [],
   "source": [
    "session.start(param).preview()\n",
    "session.stream()"
   ]
  },
  {
   "cell_type": "code",
   "execution_count": null,
   "id": "9a004ff6-739f-480c-b082-08fe8f0643c0",
   "metadata": {},
   "outputs": [],
   "source": [
    "session.animate()"
   ]
  },
  {
   "cell_type": "code",
   "execution_count": null,
   "id": "11166aad-83b1-4bfd-8f1c-000aa745b7f7",
   "metadata": {},
   "outputs": [],
   "source": [
    "session.export.animation()"
   ]
  },
  {
   "cell_type": "code",
   "execution_count": null,
   "id": "8ded698a-c2fa-445b-8a0e-27dbc3e320ba",
   "metadata": {},
   "outputs": [],
   "source": [
    "# this is for CI\n",
    "assert session.finished()"
   ]
  }
 ],
 "metadata": {
  "kernelspec": {
   "display_name": "Python 3 (ipykernel)",
   "language": "python",
   "name": "python3"
  },
  "language_info": {
   "codemirror_mode": {
    "name": "ipython",
    "version": 3
   },
   "file_extension": ".py",
   "mimetype": "text/x-python",
   "name": "python",
   "nbconvert_exporter": "python",
   "pygments_lexer": "ipython3",
   "version": "3.10.12"
  }
 },
 "nbformat": 4,
 "nbformat_minor": 5
}
