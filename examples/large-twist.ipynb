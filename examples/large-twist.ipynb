{
 "cells": [
  {
   "cell_type": "code",
   "execution_count": null,
   "id": "79f6b261-523d-4928-bb97-a9dc3588e7c1",
   "metadata": {},
   "outputs": [],
   "source": [
    "# File: large-twist.ipynb\n",
    "# Author: Ryoichi Ando (ryoichi.ando@zozo.com)\n",
    "# License: Apache v2.0"
   ]
  },
  {
   "cell_type": "code",
   "execution_count": null,
   "id": "24ef9f4b-2929-4e22-9d10-5ecff86ba720",
   "metadata": {},
   "outputs": [],
   "source": [
    "from frontend import App\n",
    "\n",
    "app = App.create(\"large-twist\")\n",
    "\n",
    "V, F = app.mesh.cylinder(r=0.9, min_x=-1.75, max_x=1.75, n=1410)\n",
    "app.asset.add.tri(\"cylinder\", V, F)\n",
    "\n",
    "scene = app.scene.create()\n",
    "obj = scene.add(\"cylinder\").cylinder_color([0, 0, 0], [1, 0, 0], [0, 1, 0])\n",
    "\n",
    "angular_vel, move_delta, t_end = 180.0, 0.5, 16.66\n",
    "scale = 1 - t_end * 0.015\n",
    "(\n",
    "    obj.pin(obj.grab([-1, 0, 0]))\n",
    "    .spin(axis=[1, 0, 0], angular_velocity=angular_vel)\n",
    "    .move_and_scale_by([move_delta, 0, 0], scale, t_end)\n",
    ")\n",
    "(\n",
    "    obj.pin(obj.grab([1, 0, 0]))\n",
    "    .spin(axis=[-1, 0, 0], angular_velocity=angular_vel)\n",
    "    .move_and_scale_by([-move_delta, 0, 0], scale, t_end)\n",
    ")\n",
    "\n",
    "fixed = scene.build().report()"
   ]
  },
  {
   "cell_type": "code",
   "execution_count": null,
   "id": "b5eaa027-b3b5-451b-a565-9a3b1d05fe02",
   "metadata": {},
   "outputs": [],
   "source": [
    "session = app.session.create(fixed, \"main\")"
   ]
  },
  {
   "cell_type": "code",
   "execution_count": null,
   "id": "f0eb7eb2-ef73-4e76-90a4-882e6b94f228",
   "metadata": {},
   "outputs": [],
   "source": [
    "param = app.session.param()\n",
    "(\n",
    "    param.set(\"friction\", 0.0)\n",
    "    .set(\"auto-save\", 10)\n",
    "    .set(\"keep-verts\", 120)\n",
    "    .set(\"dt\", 1/60)\n",
    "    .set(\"frames\", 2000)\n",
    "    .set(\"gravity\", 0.0)\n",
    "    .set(\"disable-strain-limit\", True)\n",
    "    .set(\"bend\", 500)\n",
    "    .set(\"contact-ghat\", 1.75e-3)\n",
    "    .set(\"area-young-mod\", 10000)\n",
    "    .set(\"csrmat-max-nnz\", 160000000)\n",
    ")\n",
    "if not app.ci:\n",
    "    param.set(\"use-thrust\")\n",
    "\n",
    "session.start(param)"
   ]
  },
  {
   "cell_type": "code",
   "execution_count": null,
   "id": "c5e88e14-84f0-44f0-9540-42ac293f9135",
   "metadata": {},
   "outputs": [],
   "source": [
    "# This example takes a long time...\n",
    "# In case you shutdown the server (or kernel) and still want to restart\n",
    "# from where you have (auto) saved, only run this cell.\n",
    "# Do not run cells above.\n",
    "\n",
    "from frontend import App # noqa\n",
    "\n",
    "app = App.load(\"large-twist\")\n",
    "session = app.session.select(\"main\")\n",
    "\n",
    "if not app.busy():\n",
    "    session.resume()\n",
    "session.preview()\n",
    "session.stream()"
   ]
  }
 ],
 "metadata": {
  "kernelspec": {
   "display_name": "Python 3 (ipykernel)",
   "language": "python",
   "name": "python3"
  },
  "language_info": {
   "codemirror_mode": {
    "name": "ipython",
    "version": 3
   },
   "file_extension": ".py",
   "mimetype": "text/x-python",
   "name": "python",
   "nbconvert_exporter": "python",
   "pygments_lexer": "ipython3",
   "version": "3.10.12"
  }
 },
 "nbformat": 4,
 "nbformat_minor": 5
}
