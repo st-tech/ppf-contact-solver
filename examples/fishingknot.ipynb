{
 "cells": [
  {
   "cell_type": "code",
   "execution_count": null,
   "id": "775ca6a3-d589-4c12-948b-f3753a00329c",
   "metadata": {},
   "outputs": [],
   "source": [
    "# File: fishingknot.ipynb\n",
    "# Author: Ryoichi Ando (ryoichi.ando@zozo.com)\n",
    "# License: Apache v2.0"
   ]
  },
  {
   "cell_type": "code",
   "execution_count": null,
   "id": "bc4129bb-9186-468d-a0c5-9cf44414f120",
   "metadata": {},
   "outputs": [],
   "source": [
    "import os\n",
    "\n",
    "import gdown\n",
    "from frontend import App\n",
    "\n",
    "fishingknot_path = \"/tmp/fishingknot.ply\"\n",
    "if not os.path.exists(fishingknot_path):\n",
    "    fishingknot_id = \"1alCDncsmGAFliL1YsPXzqr3pJJvs48P-\"\n",
    "    gdown.download(id=fishingknot_id, output=fishingknot_path)\n",
    "\n",
    "app = App.create()\n",
    "\n",
    "V, F = app.mesh.load_tri(fishingknot_path)\n",
    "app.asset.add.tri(\"ribbon\", V, F)\n",
    "\n",
    "V, F = app.mesh.torus(r=0.5, R=0.125)\n",
    "app.asset.add.tri(\"torus\", V, F)\n",
    "\n",
    "scene = app.scene.create(\"fishingknot\")\n",
    "ribbon = scene.add(\"ribbon\").jitter().direction_color(-1, 0, 0)\n",
    "ribbon.pin(ribbon.grab([-1, 0, 0], 0.4)).pull(1000.0).move_by([-9, 0, 0], 18)\n",
    "ribbon.pin(ribbon.grab([0, -1, 0], 0.1))\n",
    "\n",
    "scene.add(\"torus\").at(4.55, 1.2, 0.05).pin()\n",
    "\n",
    "fixed = scene.build().report()\n",
    "fixed.preview()"
   ]
  },
  {
   "cell_type": "code",
   "execution_count": null,
   "id": "74bd1842-4088-417e-9235-dbd82c2b7ac3",
   "metadata": {},
   "outputs": [],
   "source": [
    "param = (\n",
    "    app.session.param()\n",
    "    .set(\"frames\", 830)\n",
    "    .set(\"model-shell\", \"arap\")\n",
    "    .set(\"bend\", 100.0)\n",
    "    .set(\"area-young-mod\", 1000)\n",
    "    .set(\"contact-ghat\", 3e-3)\n",
    "    .set(\"gravity\", 0.0)\n",
    "    .set(\"friction\", 0.0)\n",
    ")\n",
    "session = app.session.create(fixed).start(param)\n",
    "session.preview()\n",
    "session.stream()"
   ]
  },
  {
   "cell_type": "code",
   "execution_count": null,
   "id": "7ffd0897-76d8-4751-8266-c8dbc40c5c96",
   "metadata": {},
   "outputs": [],
   "source": [
    "session.animate()"
   ]
  },
  {
   "cell_type": "code",
   "execution_count": null,
   "id": "ff49a9f0-ac37-4325-b020-35f6322e37c3",
   "metadata": {},
   "outputs": [],
   "source": [
    "session.export.animation()"
   ]
  },
  {
   "cell_type": "code",
   "execution_count": null,
   "id": "ae4b1170-6eba-4910-9d37-8c355841a832",
   "metadata": {},
   "outputs": [],
   "source": [
    "# this is for CI\n",
    "assert session.finished()"
   ]
  }
 ],
 "metadata": {
  "kernelspec": {
   "display_name": "Python 3 (ipykernel)",
   "language": "python",
   "name": "python3"
  },
  "language_info": {
   "codemirror_mode": {
    "name": "ipython",
    "version": 3
   },
   "file_extension": ".py",
   "mimetype": "text/x-python",
   "name": "python",
   "nbconvert_exporter": "python",
   "pygments_lexer": "ipython3",
   "version": "3.10.12"
  }
 },
 "nbformat": 4,
 "nbformat_minor": 5
}
