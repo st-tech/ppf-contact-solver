{
 "cells": [
  {
   "cell_type": "code",
   "execution_count": null,
   "id": "71aa43d6-98c9-4552-a9cd-d65784eef882",
   "metadata": {},
   "outputs": [],
   "source": [
    "# File: noodle.ipynb\n",
    "# Author: Ryoichi Ando (ryoichi.ando@zozo.com)\n",
    "# License: Apache v2.0"
   ]
  },
  {
   "cell_type": "code",
   "execution_count": null,
   "id": "33a15148-7429-4f33-8445-9487b0d9180e",
   "metadata": {},
   "outputs": [],
   "source": [
    "import numpy as np\n",
    "from frontend import App\n",
    "\n",
    "app = App.create()\n",
    "\n",
    "V, E = app.mesh.line([0, 0.01, 0], [0.01, 15, 0], 960)\n",
    "app.asset.add.rod(\"strand\", V, E)\n",
    "\n",
    "scene = app.scene.create(\"noodle-in-bowl\")\n",
    "scene.add.invisible.sphere([0, 1, 0], 1.1).invert().hemisphere()\n",
    "\n",
    "N, scale = 11, 0.05\n",
    "for i, j in np.ndindex((N, N)):\n",
    "    x, y = scale * (i - N / 2), scale * (j - N / 2)\n",
    "    scene.add(\"strand\").at(x, 0, y).jitter()\n",
    "\n",
    "opts = {\"lookat\": [0, 0.25, 0], \"eyeup\": 1.0, \"fov\": 4}\n",
    "fixed = scene.build().report()\n",
    "fixed.preview(options=opts)"
   ]
  },
  {
   "cell_type": "code",
   "execution_count": null,
   "id": "2e168ce7-18f1-4361-94cd-1e8e0dfd7b4b",
   "metadata": {},
   "outputs": [],
   "source": [
    "param = (\n",
    "    app.session.param()\n",
    "    .set(\"frames\", 240)\n",
    "    .set(\"rod-bend\", 10.0)\n",
    "    .set(\"rod-offset\", 3e-3)\n",
    "    .set(\"contact-ghat\", 3e-3)\n",
    "    .set(\"friction\", 0.05)\n",
    "    .set(\"fix-xz\", 1.0)\n",
    "    .set(\"isotropic-air-friction\", 1e-5)\n",
    ")\n",
    "\n",
    "session = app.session.create(fixed)\n",
    "session.start(param).preview(options=opts)\n",
    "session.stream()"
   ]
  },
  {
   "cell_type": "code",
   "execution_count": null,
   "id": "06dfc048-e0c5-49a5-b2b8-b9ff26d08766",
   "metadata": {},
   "outputs": [],
   "source": [
    "session.animate(options=opts)"
   ]
  },
  {
   "cell_type": "code",
   "execution_count": null,
   "id": "1e4e3a0e-abda-4695-900d-48db50b03f34",
   "metadata": {},
   "outputs": [],
   "source": [
    "session.export.animation()"
   ]
  },
  {
   "cell_type": "code",
   "execution_count": null,
   "id": "c8e2432d-7328-4d73-afbb-159ae5cff76d",
   "metadata": {},
   "outputs": [],
   "source": [
    "# this is for CI\n",
    "assert session.finished()"
   ]
  }
 ],
 "metadata": {
  "kernelspec": {
   "display_name": "Python 3 (ipykernel)",
   "language": "python",
   "name": "python3"
  },
  "language_info": {
   "codemirror_mode": {
    "name": "ipython",
    "version": 3
   },
   "file_extension": ".py",
   "mimetype": "text/x-python",
   "name": "python",
   "nbconvert_exporter": "python",
   "pygments_lexer": "ipython3",
   "version": "3.10.12"
  }
 },
 "nbformat": 4,
 "nbformat_minor": 5
}
