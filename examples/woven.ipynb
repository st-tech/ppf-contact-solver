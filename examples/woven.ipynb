{
 "cells": [
  {
   "cell_type": "code",
   "execution_count": null,
   "id": "12234af9-4cc3-46a7-8880-1cb68aa7d9da",
   "metadata": {},
   "outputs": [],
   "source": [
    "# File: woven.ipynb\n",
    "# Author: Ryoichi Ando (ryoichi.ando@zozo.com)\n",
    "# License: Apache v2.0"
   ]
  },
  {
   "cell_type": "code",
   "execution_count": null,
   "id": "5c8313e6-3512-49fd-9617-268ee0bd0f07",
   "metadata": {},
   "outputs": [],
   "source": [
    "import random\n",
    "\n",
    "import numpy as np\n",
    "from frontend import App\n",
    "\n",
    "\n",
    "def make_woven_cylinder(n: int, offset: float, scale: float):\n",
    "    dx, width = 1.0 / (n - 1), 1.25\n",
    "    scale = 2.0 * 1.48 * scale\n",
    "    v_steps = int(25.0 * scale)\n",
    "    sep, strands = 0.5, []\n",
    "\n",
    "    for i in range(v_steps):\n",
    "        theta = 2.0 * np.pi * i / v_steps\n",
    "        xyz = np.zeros((n, 3))\n",
    "        xyz[:, 0] = width * (2.0 * dx * np.arange(n) - 1.0)\n",
    "        xyz[:, 1], xyz[:, 2] = sep * np.sin(theta), sep * np.cos(theta)\n",
    "        strands.append((xyz, False))\n",
    "\n",
    "    h_steps = int(30.0 * scale)\n",
    "    ring_steps = v_steps * 3\n",
    "    assert ring_steps % 2 == 0, \"ring_steps must be even\"\n",
    "    amp, dx_h, half_v = 1.2 * offset, 1.0 / (h_steps - 1), v_steps // 2\n",
    "\n",
    "    for i in range(1, h_steps - 1):\n",
    "        sgn = 1.0 if (i % 2 == 0) else -1.0\n",
    "        xyz = np.zeros((ring_steps, 3))\n",
    "        xyz[:, 0] = width * (2.0 * dx_h * i - 1.0)\n",
    "        j_indices = np.arange(ring_steps)\n",
    "        theta_vals = 2.0 * np.pi * j_indices / ring_steps\n",
    "        r = sep + sgn * amp * np.cos(half_v * theta_vals)\n",
    "        xyz[:, 1], xyz[:, 2] = r * np.sin(theta_vals), r * np.cos(theta_vals)\n",
    "        strands.append((xyz, True))\n",
    "\n",
    "    return strands\n",
    "\n",
    "\n",
    "app = App.create()\n",
    "scene = app.scene.create(\"twist-woven\")\n",
    "\n",
    "k = 0\n",
    "angular_vel, move_delta, t_end = 360 + 10 * random.random(), 0.15, 10\n",
    "for V, closed in make_woven_cylinder(256, 4e-3, 2.0):\n",
    "    E = [[i, i + 1] for i in range(len(V) - 1)]\n",
    "    if closed:\n",
    "        E.append([len(V) - 1, 0])\n",
    "    name = f\"strand-{k}\"\n",
    "    app.asset.add.rod(name, V, np.array(E, dtype=np.uint32))\n",
    "    obj = scene.add(name).length_factor(0.8)\n",
    "    if not closed:\n",
    "        (\n",
    "            obj.pin(obj.grab([-1, 0, 0]))\n",
    "            .spin(axis=[1, 0, 0], angular_velocity=angular_vel)\n",
    "            .move_by([move_delta, 0, 0], t_end)\n",
    "        )\n",
    "        (\n",
    "            obj.pin(obj.grab([1, 0, 0]))\n",
    "            .spin(axis=[-1, 0, 0], angular_velocity=angular_vel)\n",
    "            .move_by([-move_delta, 0, 0], t_end)\n",
    "        )\n",
    "    k += 1\n",
    "\n",
    "fixed = scene.build().report()\n",
    "fixed.preview()"
   ]
  },
  {
   "cell_type": "code",
   "execution_count": null,
   "id": "da0c4ec5-adcf-457a-8ec6-07cece3055b5",
   "metadata": {},
   "outputs": [],
   "source": [
    "param = (\n",
    "    app.session.param()\n",
    "    .set(\"frames\", 450)\n",
    "    .set(\"dt\", 1e-2)\n",
    "    .set(\"gravity\", 0.0)\n",
    "    .set(\"rod-bend\", 1e-3)\n",
    "    .set(\"rod-young-mod\", 1e5)\n",
    "    .set(\"contact-ghat\", 1.5e-3)\n",
    "    .set(\"rod-offset\", 2e-3)\n",
    "    .set(\"friction\", 0.01)\n",
    "    .set(\"isotropic-air-friction\", 1e-3)\n",
    ")\n",
    "\n",
    "session = app.session.create(fixed)\n",
    "session.start(param).preview()\n",
    "session.stream()"
   ]
  },
  {
   "cell_type": "code",
   "execution_count": null,
   "id": "685409d0-381d-46ed-b10d-d2245bf56698",
   "metadata": {},
   "outputs": [],
   "source": [
    "session.animate()"
   ]
  },
  {
   "cell_type": "code",
   "execution_count": null,
   "id": "e9fb98a8-1892-487c-a3de-2783f06eb87c",
   "metadata": {},
   "outputs": [],
   "source": [
    "session.export.animation()"
   ]
  },
  {
   "cell_type": "code",
   "execution_count": null,
   "id": "d542a9ed-2e99-410a-9330-37c1e0af8270",
   "metadata": {},
   "outputs": [],
   "source": [
    "# this is for CI\n",
    "assert session.finished()"
   ]
  }
 ],
 "metadata": {
  "kernelspec": {
   "display_name": "Python 3 (ipykernel)",
   "language": "python",
   "name": "python3"
  },
  "language_info": {
   "codemirror_mode": {
    "name": "ipython",
    "version": 3
   },
   "file_extension": ".py",
   "mimetype": "text/x-python",
   "name": "python",
   "nbconvert_exporter": "python",
   "pygments_lexer": "ipython3",
   "version": "3.10.12"
  }
 },
 "nbformat": 4,
 "nbformat_minor": 5
}
