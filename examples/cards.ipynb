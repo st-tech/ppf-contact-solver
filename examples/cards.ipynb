{
 "cells": [
  {
   "cell_type": "code",
   "execution_count": null,
   "id": "550b47f1-6e17-4ec6-9831-896b63ef0ce4",
   "metadata": {},
   "outputs": [],
   "source": [
    "# File: cards.ipynb\n",
    "# Author: Ryoichi Ando (ryoichi.ando@zozo.com)\n",
    "# License: Apache v2.0"
   ]
  },
  {
   "cell_type": "code",
   "execution_count": null,
   "id": "2af5eb5a-46aa-498b-bc01-08274d63100a",
   "metadata": {},
   "outputs": [],
   "source": [
    "from frontend import App\n",
    "\n",
    "app = App.create()\n",
    "\n",
    "mesh_res, n_stack, card_height = 8, 8, 0.25\n",
    "card_width = 0.75 * card_height\n",
    "V, F = app.mesh.rectangle(mesh_res, card_width, card_height, [0, 0, 1], [0, 1, 0])\n",
    "app.asset.add.tri(\"card\", V, F)\n",
    "\n",
    "V, F, T = app.mesh.icosphere(r=0.15, subdiv_count=3).tetrahedralize()\n",
    "app.asset.add.tet(\"sphere\", V, F, T)\n",
    "\n",
    "scene = app.scene.create(\"house-of-cards\")\n",
    "param = app.session.param()\n",
    "angle, gap = 25.0, param.get(\"contact-ghat\")\n",
    "\n",
    "\n",
    "def make_row(n: int, _x: float, y: float) -> float:\n",
    "    x, _y, ceil_x = 0, 0, []\n",
    "    for i in range(n):\n",
    "        left = scene.add(\"card\").rotate(-angle, \"z\")\n",
    "        left.at(x - left.min(\"x\") + (_x if i == 0 else 0), y - left.min(\"y\"), 0)\n",
    "        if i == 0:\n",
    "            _x = left.max(\"x\")\n",
    "        right = scene.add(\"card\").rotate(angle, \"z\")\n",
    "        shift = gap + left.max(\"x\") - right.min(\"x\")\n",
    "        right.at(shift, y - right.min(\"y\"), 0)\n",
    "        if i < n - 1:\n",
    "            ceil_x.append(right.max(\"x\"))\n",
    "        x = right.max(\"x\") + gap\n",
    "        max_y = right.max(\"y\") + gap\n",
    "    for i, x in enumerate(ceil_x):\n",
    "        z = max_y if i % 2 == 0 else max_y + gap\n",
    "        ceil = scene.add(\"card\").rotate(-90, \"z\").at(x, z, 0)\n",
    "        _y = max(_y, ceil.max(\"y\"))\n",
    "    return _x, _y + gap\n",
    "\n",
    "\n",
    "_x, _y = -0.75, gap\n",
    "for i in reversed(range(n_stack)):\n",
    "    _x, _y = make_row(i + 1, _x, _y)\n",
    "\n",
    "scene.add(\"sphere\").at(-2, 1, 0).jitter().velocity(2.3, 0, 0)\n",
    "scene.add.invisible.wall([0, 0, 0], [0, 1, 0])\n",
    "\n",
    "fixed = scene.build().report()\n",
    "fixed.preview()"
   ]
  },
  {
   "cell_type": "code",
   "execution_count": null,
   "id": "b3f8610c-1392-4d22-9cd1-bf7c14d20ff5",
   "metadata": {},
   "outputs": [],
   "source": [
    "(\n",
    "    param.set(\"friction\", 0.5)\n",
    "    .set(\"area-young-mod\", 30000)\n",
    "    .set(\"bend\", 1e6)\n",
    "    .set(\"dt\", 0.01)\n",
    "    .set(\"min-newton-steps\", 32)\n",
    ")\n",
    "session = app.session.create(fixed)\n",
    "session.start(param).preview(options={\"wireframe\": True})\n",
    "session.stream()"
   ]
  },
  {
   "cell_type": "code",
   "execution_count": null,
   "id": "1fb38b89-3a6b-44fa-8629-6e6c21408fc8",
   "metadata": {},
   "outputs": [],
   "source": [
    "session.animate(options={\"wireframe\": True})"
   ]
  },
  {
   "cell_type": "code",
   "execution_count": null,
   "id": "472bf8f9-9734-4af8-a3bc-0e1312aeab39",
   "metadata": {},
   "outputs": [],
   "source": [
    "session.export.animation()"
   ]
  },
  {
   "cell_type": "code",
   "execution_count": null,
   "id": "726e97b1-1801-4354-bd37-04b5ad9119e6",
   "metadata": {},
   "outputs": [],
   "source": [
    "# this is for CI\n",
    "assert session.finished()"
   ]
  }
 ],
 "metadata": {
  "kernelspec": {
   "display_name": "Python 3 (ipykernel)",
   "language": "python",
   "name": "python3"
  },
  "language_info": {
   "codemirror_mode": {
    "name": "ipython",
    "version": 3
   },
   "file_extension": ".py",
   "mimetype": "text/x-python",
   "name": "python",
   "nbconvert_exporter": "python",
   "pygments_lexer": "ipython3",
   "version": "3.10.12"
  }
 },
 "nbformat": 4,
 "nbformat_minor": 5
}
