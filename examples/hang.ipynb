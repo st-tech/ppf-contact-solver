{
 "cells": [
  {
   "cell_type": "code",
   "execution_count": null,
   "id": "b9f3df9e-c2ea-48a4-8ed2-a6402736fb86",
   "metadata": {},
   "outputs": [],
   "source": [
    "# File: hang.ipynb\n",
    "# Author: Ryoichi Ando (ryoichi.ando@zozo.com)\n",
    "# License: Apache v2.0"
   ]
  },
  {
   "cell_type": "code",
   "execution_count": null,
   "id": "950b418e-2ff8-429c-97b1-79f87304af40",
   "metadata": {},
   "outputs": [],
   "source": [
    "from frontend import App\n",
    "\n",
    "# create an app\n",
    "app = App.create(\"hang\")\n",
    "\n",
    "# make a sheet and add to the asset\n",
    "V, F = app.mesh.square(res=128, ex=[1, 0, 0], ey=[0, 1, 0])\n",
    "app.asset.add.tri(\"sheet\", V, F)\n",
    "\n",
    "# make a hanging sheet scene\n",
    "scene = app.scene.create()\n",
    "\n",
    "# hang a sheet and pin top two corners\n",
    "sheet = scene.add(\"sheet\").direction([1, 0, 0], [0, 1, 0])\n",
    "sheet.pin(sheet.grab([-1, 1, 0]) + sheet.grab([1, 1, 0]))\n",
    "\n",
    "# build the scene and preview\n",
    "fixed = scene.build().report()\n",
    "fixed.preview()"
   ]
  },
  {
   "cell_type": "code",
   "execution_count": null,
   "id": "46a61c8b-126b-4e0f-8c11-cfc1cb465fab",
   "metadata": {},
   "outputs": [],
   "source": [
    "import random  # noqa\n",
    "\n",
    "# set small jitter\n",
    "jitter_time = 0.1 + 0.5 * random.random()\n",
    "\n",
    "# obtain gravity\n",
    "param = app.session.param()\n",
    "gravity = param.get(\"gravity\")\n",
    "\n",
    "# set strain-limiting upper bound 1%\n",
    "param.set(\"strain-limit-tau\", 0.005)\n",
    "param.set(\"strain-limit-eps\", 0.005)\n",
    "\n",
    "# set the maximal video frame to 200\n",
    "param.set(\"frames\", 200)\n",
    "\n",
    "# set dynamic gravity\n",
    "(\n",
    "    param.dyn(\"gravity\")  # focus on gravity\n",
    "    .time(1)  # move the time cursor to 1 second\n",
    "    .hold()  # hold the current value\n",
    "    .time(1 + jitter_time)  # move the time cursor slightly forward\n",
    "    .change(-gravity)  # flip the gravity\n",
    "    .time(2.0)  # move the time cursor to 2 seconds\n",
    "    .change(gravity)  # flip back the gravity\n",
    ")\n",
    "\n",
    "# start simulation\n",
    "session = app.session.create(fixed)"
   ]
  },
  {
   "cell_type": "code",
   "execution_count": null,
   "id": "d9c3f1b7-bc8d-4c49-8d83-9b0ce95b9c95",
   "metadata": {},
   "outputs": [],
   "source": [
    "session.start(param).preview()\n",
    "session.stream()"
   ]
  },
  {
   "cell_type": "code",
   "execution_count": null,
   "id": "45fa755d-8e22-41e3-8a91-0e9dcbd8ee14",
   "metadata": {},
   "outputs": [],
   "source": [
    "# run this cell after sufficnt frames are simulated\n",
    "session.animate()"
   ]
  },
  {
   "cell_type": "code",
   "execution_count": null,
   "id": "a01ce8aa-e0bb-4f38-bb43-d148b3222194",
   "metadata": {},
   "outputs": [],
   "source": [
    "# export all simulated frames and make a zip file\n",
    "session.export.animation().zip()"
   ]
  },
  {
   "cell_type": "code",
   "execution_count": null,
   "id": "546a1545-2238-4512-b88c-27d4d0a0b2ec",
   "metadata": {},
   "outputs": [],
   "source": [
    "# this is for CI\n",
    "assert session.finished()"
   ]
  },
  {
   "cell_type": "code",
   "execution_count": null,
   "id": "0cd13835-e4ed-4d1a-a661-3c98a62a628e",
   "metadata": {},
   "outputs": [],
   "source": [
    "# create a new scene\n",
    "app.scene.clear()\n",
    "scene = app.scene.create(\"pinch-sheet\")\n",
    "\n",
    "# pinch two points inward\n",
    "sheet = scene.add(\"sheet\").direction([1, 0, 0], [0, 1, 0])\n",
    "sheet.pin(sheet.grab([0, 1, 0])).scale(0.5, 1)\n",
    "\n",
    "# clear dynamic gravity\n",
    "param.clear(\"gravity\").set(\"frames\", 100)\n",
    "\n",
    "# build this scene and start simulation\n",
    "fixed = scene.build()\n",
    "session = app.session.create(fixed)\n",
    "session.start(param).preview()\n",
    "session.stream()"
   ]
  },
  {
   "cell_type": "code",
   "execution_count": null,
   "id": "5edd10c0-706b-46d5-bf60-c3a1834afee8",
   "metadata": {},
   "outputs": [],
   "source": [
    "session.animate()"
   ]
  },
  {
   "cell_type": "code",
   "execution_count": null,
   "id": "3926406c-016c-44ad-91ed-09816c1fabfc",
   "metadata": {},
   "outputs": [],
   "source": [
    "session.export.animation()"
   ]
  },
  {
   "cell_type": "code",
   "execution_count": null,
   "id": "98284b82-774b-4fd5-be0e-7968fc24b8ba",
   "metadata": {},
   "outputs": [],
   "source": [
    "# this is for CI\n",
    "assert session.finished()"
   ]
  }
 ],
 "metadata": {
  "kernelspec": {
   "display_name": "Python 3 (ipykernel)",
   "language": "python",
   "name": "python3"
  },
  "language_info": {
   "codemirror_mode": {
    "name": "ipython",
    "version": 3
   },
   "file_extension": ".py",
   "mimetype": "text/x-python",
   "name": "python",
   "nbconvert_exporter": "python",
   "pygments_lexer": "ipython3",
   "version": "3.10.12"
  }
 },
 "nbformat": 4,
 "nbformat_minor": 5
}
