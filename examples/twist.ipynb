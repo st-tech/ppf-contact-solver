{
 "cells": [
  {
   "cell_type": "code",
   "execution_count": null,
   "id": "79f6b261-523d-4928-bb97-a9dc3588e7c1",
   "metadata": {},
   "outputs": [],
   "source": [
    "# File: twist.ipynb\n",
    "# Author: Ryoichi Ando (ryoichi.ando@zozo.com)\n",
    "# License: Apache v2.0"
   ]
  },
  {
   "cell_type": "code",
   "execution_count": null,
   "id": "24ef9f4b-2929-4e22-9d10-5ecff86ba720",
   "metadata": {},
   "outputs": [],
   "source": [
    "from frontend import App\n",
    "\n",
    "app = App.create(\"twist\")\n",
    "\n",
    "V, F = app.mesh.cylinder(r=0.5, min_x=-1.0, max_x=1.0, n=360)\n",
    "app.asset.add.tri(\"cylinder\", V, F)\n",
    "\n",
    "scene = app.scene.create()\n",
    "obj = scene.add(\"cylinder\")\n",
    "\n",
    "angular_vel, move_delta, t_end = 360.0, 0.2, 10\n",
    "(\n",
    "    obj.pin(obj.grab([-1, 0, 0]))\n",
    "    .spin(axis=[1, 0, 0], angular_velocity=angular_vel)\n",
    "    .move_by([move_delta, 0, 0], t_end)\n",
    ")\n",
    "(\n",
    "    obj.pin(obj.grab([1, 0, 0]))\n",
    "    .spin(axis=[-1, 0, 0], angular_velocity=angular_vel)\n",
    "    .move_by([-move_delta, 0, 0], t_end)\n",
    ")\n",
    "\n",
    "fixed = scene.build().report()\n",
    "fixed.preview()"
   ]
  },
  {
   "cell_type": "code",
   "execution_count": null,
   "id": "b5eaa027-b3b5-451b-a565-9a3b1d05fe02",
   "metadata": {},
   "outputs": [],
   "source": [
    "param = app.session.param()\n",
    "(\n",
    "    param.set(\"friction\", 0.0)\n",
    "    .set(\"dt\", 0.01)\n",
    "    .set(\"frames\", 500)\n",
    "    .set(\"gravity\", 0.0)\n",
    "    .set(\"disable-strain-limit\", True)\n",
    "    .set(\"bend\", 500)\n",
    "    .set(\"contact-ghat\", 4e-3)\n",
    "    .set(\"area-young-mod\", 10000)\n",
    "    .set(\"csrmat-max-nnz\", 35000000) # 5GB VRAM needed\n",
    ")\n",
    "\n",
    "session = app.session.create(fixed)"
   ]
  },
  {
   "cell_type": "code",
   "execution_count": null,
   "id": "f0eb7eb2-ef73-4e76-90a4-882e6b94f228",
   "metadata": {},
   "outputs": [],
   "source": [
    "session.start(param).preview()\n",
    "session.stream()"
   ]
  },
  {
   "cell_type": "code",
   "execution_count": null,
   "id": "fd17ecf8-71bb-46e5-8ca6-4506d49b9fa7",
   "metadata": {},
   "outputs": [],
   "source": [
    "session.animate()"
   ]
  },
  {
   "cell_type": "code",
   "execution_count": null,
   "id": "5c8a6ac7-4ce9-4279-94a2-87edf015d42e",
   "metadata": {},
   "outputs": [],
   "source": [
    "session.export.animation()"
   ]
  },
  {
   "cell_type": "code",
   "execution_count": null,
   "id": "a9de0b7e-f311-4a66-ac52-be315808121d",
   "metadata": {},
   "outputs": [],
   "source": [
    "# this is for CI\n",
    "assert session.finished()"
   ]
  }
 ],
 "metadata": {
  "kernelspec": {
   "display_name": "Python 3 (ipykernel)",
   "language": "python",
   "name": "python3"
  },
  "language_info": {
   "codemirror_mode": {
    "name": "ipython",
    "version": 3
   },
   "file_extension": ".py",
   "mimetype": "text/x-python",
   "name": "python",
   "nbconvert_exporter": "python",
   "pygments_lexer": "ipython3",
   "version": "3.10.12"
  }
 },
 "nbformat": 4,
 "nbformat_minor": 5
}
