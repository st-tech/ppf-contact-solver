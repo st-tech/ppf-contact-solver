{
 "cells": [
  {
   "cell_type": "code",
   "execution_count": null,
   "id": "ed987a2f-5811-43f4-9a7b-1dd3f1278f0f",
   "metadata": {},
   "outputs": [],
   "source": [
    "# File: friction.ipynb\n",
    "# Author: Ryoichi Ando (ryoichi.ando@zozo.com)\n",
    "# License: Apache v2.0"
   ]
  },
  {
   "cell_type": "code",
   "execution_count": null,
   "id": "1845cfba-4cda-4917-905c-2991ada078b1",
   "metadata": {},
   "outputs": [],
   "source": [
    "import numpy as np\n",
    "from frontend import App\n",
    "\n",
    "app = App.create(\"friction\")\n",
    "\n",
    "V, F, T = app.mesh.preset(\"armadillo\").decimate(2400).tetrahedralize().normalize()\n",
    "app.asset.add.tet(\"armadillo\", V, F, T)\n",
    "\n",
    "V, F = app.mesh.rectangle(res_x=43, width=10, height=3, ex=[1, 0, 0], ey=[0, 0, 1])\n",
    "app.asset.add.tri(\"slope\", V, F)\n",
    "\n",
    "scene = app.scene.create()\n",
    "armadillo = scene.add(\"armadillo\")\n",
    "armadillo.rotate(180, \"y\").rotate(-90, \"x\").rotate(-30, \"z\").at(-3.8, 2.35, -0.25).jitter()\n",
    "\n",
    "deg = 180 * np.arctan(0.5) / np.pi\n",
    "scene.add(\"slope\").rotate(-deg, \"z\").pin()\n",
    "\n",
    "fixed = scene.build().report()\n",
    "fixed.preview()"
   ]
  },
  {
   "cell_type": "code",
   "execution_count": null,
   "id": "ab059354-7c0d-4fd9-a5fe-544af3c3d79f",
   "metadata": {},
   "outputs": [],
   "source": [
    "param = app.session.param()\n",
    "param.set(\"volume-poiss-rat\", 0.49)\n",
    "param.set(\"dt\", 0.01).set(\"min-newton-steps\", 32)\n",
    "param.set(\"friction\", 0.51).set(\"frames\", 700)\n",
    "\n",
    "session = app.session.create(fixed)"
   ]
  },
  {
   "cell_type": "code",
   "execution_count": null,
   "id": "6f2c2ed4-5839-4c6a-947b-9e772431fc95",
   "metadata": {},
   "outputs": [],
   "source": [
    "session.start(param).preview()\n",
    "session.stream()"
   ]
  },
  {
   "cell_type": "code",
   "execution_count": null,
   "id": "d70cac9b-43b9-4355-9426-6953dea667dd",
   "metadata": {},
   "outputs": [],
   "source": [
    "session.animate()"
   ]
  },
  {
   "cell_type": "code",
   "execution_count": null,
   "id": "b6528c86-0218-4ea9-98ec-033ba1a28f17",
   "metadata": {},
   "outputs": [],
   "source": [
    "session.export.animation()"
   ]
  },
  {
   "cell_type": "code",
   "execution_count": null,
   "id": "c1401b65-dfbb-4739-ad0d-81bdbb25097c",
   "metadata": {},
   "outputs": [],
   "source": [
    "# this is for CI\n",
    "assert session.finished()"
   ]
  }
 ],
 "metadata": {
  "kernelspec": {
   "display_name": "Python 3 (ipykernel)",
   "language": "python",
   "name": "python3"
  },
  "language_info": {
   "codemirror_mode": {
    "name": "ipython",
    "version": 3
   },
   "file_extension": ".py",
   "mimetype": "text/x-python",
   "name": "python",
   "nbconvert_exporter": "python",
   "pygments_lexer": "ipython3",
   "version": "3.10.12"
  }
 },
 "nbformat": 4,
 "nbformat_minor": 5
}
