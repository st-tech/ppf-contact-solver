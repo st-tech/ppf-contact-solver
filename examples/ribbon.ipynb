{
 "cells": [
  {
   "cell_type": "code",
   "execution_count": null,
   "id": "befdd4c8-6e36-482d-b074-29c1c7610911",
   "metadata": {},
   "outputs": [],
   "source": [
    "# File: ribbon.ipynb\n",
    "# Author: Ryoichi Ando (ryoichi.ando@zozo.com)\n",
    "# License: Apache v2.0"
   ]
  },
  {
   "cell_type": "code",
   "execution_count": null,
   "id": "c82f299b-60a0-4683-9ea1-a4c982ca20c0",
   "metadata": {},
   "outputs": [],
   "source": [
    "import numpy as np\n",
    "from frontend import App\n",
    "\n",
    "app = App.create()\n",
    "\n",
    "height = 12.0\n",
    "V, F = app.mesh.rectangle(\n",
    "    res_x=4, width=0.15, height=height, ex=[1, 0, 0], ey=[0, 0, 1]\n",
    ")\n",
    "app.asset.add.tri(\"ribbon\", V, F)\n",
    "\n",
    "V, F, T = app.mesh.icosphere(r=0.35, subdiv_count=4).tetrahedralize()\n",
    "app.asset.add.tet(\"sphere\", V, F, T)\n",
    "\n",
    "scene = app.scene.create(\"ribbon-sphere\")\n",
    "scene.add.invisible.sphere([0, 1, 0], 1.0).invert().hemisphere()\n",
    "\n",
    "scene.add(\"sphere\").at(0, 1 + height, 0).pin().pull().move_by(\n",
    "    [0, -height / 2, 0], 2\n",
    ").unpin()\n",
    "\n",
    "N, scale = 5, 0.25\n",
    "for i, j in np.ndindex((N, N)):\n",
    "    x, y = scale * (i - N // 2), scale * (j - N // 2)\n",
    "    r = np.sin(np.sqrt(x * x + y * y)) ** 2\n",
    "    scene.add(\"ribbon\").rotate(90.0, \"x\").at(x, 0.005 + r + height / 2, y).jitter()\n",
    "\n",
    "opts = {\"lookat\": [0, 1, 0], \"eyeup\": 0.5, \"fov\": 10}\n",
    "fixed = scene.build().report()\n",
    "fixed.preview(options=opts)"
   ]
  },
  {
   "cell_type": "code",
   "execution_count": null,
   "id": "4a939dd6-27e0-4496-bd6e-6518c3e96454",
   "metadata": {},
   "outputs": [],
   "source": [
    "param = (\n",
    "    app.session.param()\n",
    "    .set(\"frames\", 480)\n",
    "    .set(\"bend\", 1000.0)\n",
    "    .set(\"area-young-mod\", 5000)\n",
    "    .set(\"volume-density\", 2000)\n",
    "    .set(\"friction\", 0.5)\n",
    "    .set(\"air-density\", 8e-3)\n",
    ")\n",
    "\n",
    "session = app.session.create(fixed)\n",
    "session.start(param).preview(options=opts)\n",
    "session.stream()"
   ]
  },
  {
   "cell_type": "code",
   "execution_count": null,
   "id": "6b6d3137-fc35-4db2-b9cd-4abeb149b266",
   "metadata": {},
   "outputs": [],
   "source": [
    "session.animate(options=opts)"
   ]
  },
  {
   "cell_type": "code",
   "execution_count": null,
   "id": "26750281-9f97-4bfa-8184-dcb82083c630",
   "metadata": {},
   "outputs": [],
   "source": [
    "session.export.animation()"
   ]
  },
  {
   "cell_type": "code",
   "execution_count": null,
   "id": "2133446c-d669-434d-94e9-d4f9c0e35bd6",
   "metadata": {},
   "outputs": [],
   "source": [
    "# this is for CI\n",
    "assert session.finished()"
   ]
  }
 ],
 "metadata": {
  "kernelspec": {
   "display_name": "Python 3 (ipykernel)",
   "language": "python",
   "name": "python3"
  },
  "language_info": {
   "codemirror_mode": {
    "name": "ipython",
    "version": 3
   },
   "file_extension": ".py",
   "mimetype": "text/x-python",
   "name": "python",
   "nbconvert_exporter": "python",
   "pygments_lexer": "ipython3",
   "version": "3.10.12"
  }
 },
 "nbformat": 4,
 "nbformat_minor": 5
}
