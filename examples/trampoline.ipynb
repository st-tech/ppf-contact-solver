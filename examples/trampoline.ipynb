{
 "cells": [
  {
   "cell_type": "code",
   "execution_count": null,
   "id": "9b3fb5b7-03a8-49cf-b2be-cf28384212ae",
   "metadata": {},
   "outputs": [],
   "source": [
    "# File: trampoline.ipynb\n",
    "# Author: Ryoichi Ando (ryoichi.ando@zozo.com)\n",
    "# License: Apache v2.0"
   ]
  },
  {
   "cell_type": "code",
   "execution_count": null,
   "id": "8a14ae57-5fe0-45b2-a17b-2b82620aac19",
   "metadata": {},
   "outputs": [],
   "source": [
    "from frontend import App\n",
    "\n",
    "app = App.create(\"trampoline\")\n",
    "\n",
    "V, F = app.mesh.square(res=128, ex=[1, 0, 0], ey=[0, 0, 1])\n",
    "app.asset.add.tri(\"sheet\", V, F)\n",
    "\n",
    "V, F, T = app.mesh.preset(\"armadillo\").decimate(30000).tetrahedralize().normalize()\n",
    "app.asset.add.tet(\"armadillo\", V, F, T)\n",
    "\n",
    "scene = app.scene.create()\n",
    "\n",
    "sheet = scene.add(\"sheet\").dyn_color(\"area\", 1.0).direction([1, 0, 0], [0, 0, 1])\n",
    "sheet.pin(sheet.grab([-1, 0, 0]) + sheet.grab([1, 0, 0]))\n",
    "sheet.param.set(\"young-mod\", 1e4).set(\"strain-limit\", 0.01)\n",
    "\n",
    "armadillo = scene.add(\"armadillo\").color(0.75, 0.75, 0.75).scale(0.75).rotate(180, \"y\")\n",
    "armadillo.at(0, 1, 0).jitter().velocity(0, -5, 0)\n",
    "armadillo.param.set(\"density\", 6e3).set(\"friction\", 0.5)\n",
    "\n",
    "gap = 0.025\n",
    "scene.add.invisible.wall([1 + gap, 0, 0], [-1, 0, 0])\n",
    "scene.add.invisible.wall([-1 - gap, 0, 0], [1, 0, 0])\n",
    "scene.add.invisible.wall([0, 0, 1 + gap], [0, 0, -1])\n",
    "scene.add.invisible.wall([0, 0, -1 - gap], [0, 0, 1])\n",
    "\n",
    "scene = scene.build().report()\n",
    "scene.preview()"
   ]
  },
  {
   "cell_type": "code",
   "execution_count": null,
   "id": "ec41f95d-bec2-4773-a678-b4c2f7b75a71",
   "metadata": {},
   "outputs": [],
   "source": [
    "session = app.session.create(scene)\n",
    "session.param.set(\"frames\", 120)\n",
    "session = session.build()"
   ]
  },
  {
   "cell_type": "code",
   "execution_count": null,
   "id": "d2b8afa5-0bea-436b-86bf-e2c1786b04b6",
   "metadata": {},
   "outputs": [],
   "source": [
    "session.start().preview()\n",
    "session.stream()"
   ]
  },
  {
   "cell_type": "code",
   "execution_count": null,
   "id": "c4b871d7-f804-49e5-9b89-cb7be517d198",
   "metadata": {},
   "outputs": [],
   "source": [
    "session.animate()"
   ]
  },
  {
   "cell_type": "code",
   "execution_count": null,
   "id": "5d1c8d6b-b188-45eb-a854-ffbfa268ce03",
   "metadata": {},
   "outputs": [],
   "source": [
    "session.export.animation()"
   ]
  },
  {
   "cell_type": "code",
   "execution_count": null,
   "id": "8bd37b71-a4ae-4923-a794-5e524a93d58d",
   "metadata": {},
   "outputs": [],
   "source": [
    "# this is for CI\n",
    "assert session.finished()"
   ]
  }
 ],
 "metadata": {
  "kernelspec": {
   "display_name": "Python 3 (ipykernel)",
   "language": "python",
   "name": "python3"
  },
  "language_info": {
   "codemirror_mode": {
    "name": "ipython",
    "version": 3
   },
   "file_extension": ".py",
   "mimetype": "text/x-python",
   "name": "python",
   "nbconvert_exporter": "python",
   "pygments_lexer": "ipython3",
   "version": "3.12.3"
  }
 },
 "nbformat": 4,
 "nbformat_minor": 5
}
