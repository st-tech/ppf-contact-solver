{
 "cells": [
  {
   "cell_type": "code",
   "execution_count": null,
   "id": "8a14ae57-5fe0-45b2-a17b-2b82620aac19",
   "metadata": {},
   "outputs": [],
   "source": [
    "from frontend import App\n",
    "\n",
    "app = App.create(\"trampoline\")\n",
    "\n",
    "V, F = app.mesh.square(res=128, ex=[1, 0, 0], ey=[0, 0, 1])\n",
    "app.asset.add.tri(\"sheet\", V, F)\n",
    "\n",
    "V, F, T = app.mesh.preset(\"armadillo\").decimate(30000).tetrahedralize().normalize()\n",
    "app.asset.add.tet(\"armadillo\", V, F, T)\n",
    "\n",
    "scene = app.scene.create(\"drop-vel-5\")\n",
    "\n",
    "sheet = scene.add(\"sheet\").direction([1, 0, 0], [0, 0, 1])\n",
    "sheet.pin(sheet.grab([-1, 0, 0]) + sheet.grab([1, 0, 0]))\n",
    "\n",
    "armadillo = scene.add(\"armadillo\").scale(0.75).rotate(180, \"y\")\n",
    "armadillo.at(0, 1, 0).jitter().velocity(0, -5, 0)\n",
    "\n",
    "gap = 0.025\n",
    "scene.add.invisible.wall([1 + gap, 0, 0], [-1, 0, 0])\n",
    "scene.add.invisible.wall([-1 - gap, 0, 0], [1, 0, 0])\n",
    "scene.add.invisible.wall([0, 0, 1 + gap], [0, 0, -1])\n",
    "scene.add.invisible.wall([0, 0, -1 - gap], [0, 0, 1])\n",
    "\n",
    "fixed = scene.build().report()\n",
    "fixed.preview()"
   ]
  },
  {
   "cell_type": "code",
   "execution_count": null,
   "id": "379074d4-f4fc-46c1-b169-3b126126aae1",
   "metadata": {},
   "outputs": [],
   "source": [
    "param = (\n",
    "    app.session.param()\n",
    "    .set(\"strain-limit-tau\", 0.005)\n",
    "    .set(\"strain-limit-eps\", 0.005)\n",
    "    .set(\"area-density\", 1e3)\n",
    "    .set(\"volume-density\", 6e3)\n",
    "    .set(\"area-young-mod\", 10000.0)\n",
    "    .set(\"bend\", 1.0)\n",
    "    .set(\"frames\", 120)\n",
    ")\n",
    "\n",
    "session = app.session.create(fixed)\n",
    "session.start(param).preview()\n",
    "session.stream()"
   ]
  },
  {
   "cell_type": "code",
   "execution_count": null,
   "id": "c4b871d7-f804-49e5-9b89-cb7be517d198",
   "metadata": {},
   "outputs": [],
   "source": [
    "# run this cell after sufficnt frames are simulated\n",
    "session.animate()"
   ]
  },
  {
   "cell_type": "code",
   "execution_count": null,
   "id": "5d1c8d6b-b188-45eb-a854-ffbfa268ce03",
   "metadata": {},
   "outputs": [],
   "source": [
    "# export all simulated frames and make a zip file\n",
    "session.export.animation().zip()"
   ]
  },
  {
   "cell_type": "code",
   "execution_count": null,
   "id": "8bd37b71-a4ae-4923-a794-5e524a93d58d",
   "metadata": {},
   "outputs": [],
   "source": [
    "# this is for CI\n",
    "assert session.finished()"
   ]
  }
 ],
 "metadata": {
  "kernelspec": {
   "display_name": "Python 3 (ipykernel)",
   "language": "python",
   "name": "python3"
  },
  "language_info": {
   "codemirror_mode": {
    "name": "ipython",
    "version": 3
   },
   "file_extension": ".py",
   "mimetype": "text/x-python",
   "name": "python",
   "nbconvert_exporter": "python",
   "pygments_lexer": "ipython3",
   "version": "3.10.12"
  }
 },
 "nbformat": 4,
 "nbformat_minor": 5
}
