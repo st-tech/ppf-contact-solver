{
 "cells": [
  {
   "cell_type": "code",
   "execution_count": null,
   "id": "557e620e-cb73-427a-90ee-f5d0794dfc16",
   "metadata": {},
   "outputs": [],
   "source": [
    "# File: domino.ipynb\n",
    "# Author: Ryoichi Ando (ryoichi.ando@zozo.com)\n",
    "# License: Apache v2.0"
   ]
  },
  {
   "cell_type": "code",
   "execution_count": null,
   "id": "834a079d-fb9f-43e1-95b3-1e373a7096fa",
   "metadata": {},
   "outputs": [],
   "source": [
    "import numpy as np\n",
    "from frontend import App\n",
    "\n",
    "app = App.create()\n",
    "V, F, T = app.mesh.box().tetrahedralize().scale(0.1, 0.25, 0.025)\n",
    "app.asset.add.tet(\"block\", V, F, T)\n",
    "\n",
    "scene = app.scene.create(\"domino\")\n",
    "\n",
    "R, minR, d, N, C = 1.0, 0.5, 0.15, 4096, 2\n",
    "xz = None\n",
    "for i in reversed(range(N)):\n",
    "    t = 2.0 * C * np.pi * i / N - np.pi / 2\n",
    "    r = (R - minR) * i / N + minR\n",
    "    angle = 180 * t / np.pi\n",
    "    x, z = -r * np.cos(t), r * np.sin(t)\n",
    "    if xz is None or np.linalg.norm(np.array([x, z]) - xz) > d:\n",
    "        scene.add(\"block\").at(x, 0, z).rotate(angle, \"y\")\n",
    "        xz = np.array([x, z])\n",
    "\n",
    "scene.add(\"block\").at(-0.1, 0.25, -R).rotate(90, \"y\").rotate(-20, \"z\")\n",
    "\n",
    "gap = app.session.param().get(\"contact-ghat\")\n",
    "scene.add.invisible.wall([0, scene.min(\"y\") - 0.5 * gap, 0], [0, 1, 0])\n",
    "\n",
    "fixed = scene.build().report()\n",
    "opts = {\"flat_shading\": True, \"wireframe\": True}\n",
    "fixed.preview(options=opts)"
   ]
  },
  {
   "cell_type": "code",
   "execution_count": null,
   "id": "5e6f26d9-03d8-4e50-8315-7d41afbc8532",
   "metadata": {},
   "outputs": [],
   "source": [
    "param = app.session.param()\n",
    "(\n",
    "    param.set(\"volume-poiss-rat\", 0.49)\n",
    "    .set(\"friction\", 0.1)\n",
    "    .set(\"min-newton-steps\", 32)\n",
    "    .set(\"dt\", 0.01)\n",
    "    .set(\"fps\", 30)\n",
    "    .set(\"frames\", 250)\n",
    ")\n",
    "\n",
    "session = app.session.create(fixed)\n",
    "session.start(param).preview(options=opts)\n",
    "session.stream()"
   ]
  },
  {
   "cell_type": "code",
   "execution_count": null,
   "id": "f3755897-773b-4541-9d6b-61eca227a9f6",
   "metadata": {},
   "outputs": [],
   "source": [
    "session.animate(options=opts)"
   ]
  },
  {
   "cell_type": "code",
   "execution_count": null,
   "id": "d1c776ea-d010-43e9-9110-bb80e956896d",
   "metadata": {},
   "outputs": [],
   "source": [
    "session.export.animation()"
   ]
  },
  {
   "cell_type": "code",
   "execution_count": null,
   "id": "7338acaa-f007-48c5-94a8-e481dd0f8cfc",
   "metadata": {},
   "outputs": [],
   "source": [
    "# this is for CI\n",
    "assert session.finished()"
   ]
  },
  {
   "cell_type": "code",
   "execution_count": null,
   "id": "972f82eb-76bb-4cfc-9d4d-be3f7202131d",
   "metadata": {},
   "outputs": [],
   "source": [
    "if not app.ci:\n",
    "    # An increased stiffness\n",
    "    param.set(\"volume-poiss-rat\", 0.499).set(\"frames\", 32).set(\"barrier\", \"cubic\")\n",
    "    stiff_cubic_session = app.session.create(fixed)\n",
    "    stiff_cubic_session.start(param).preview(options=opts)\n",
    "    stiff_cubic_session.stream()"
   ]
  },
  {
   "cell_type": "code",
   "execution_count": null,
   "id": "5c494187-2705-4ce5-abb9-a91f6ce1da33",
   "metadata": {},
   "outputs": [],
   "source": [
    "if not app.ci:\n",
    "    stiff_cubic_session.animate(options=opts)"
   ]
  },
  {
   "cell_type": "code",
   "execution_count": null,
   "id": "056ae90d-8383-4ed0-81f8-f52b178aa13a",
   "metadata": {},
   "outputs": [],
   "source": [
    "if not app.ci:\n",
    "    # An increased stiffness quadratic\n",
    "    param.set(\"barrier\", \"quad\")\n",
    "    stiff_quad_session = app.session.create(fixed)\n",
    "    stiff_quad_session.start(param).preview(options=opts)\n",
    "    stiff_quad_session.stream()"
   ]
  },
  {
   "cell_type": "code",
   "execution_count": null,
   "id": "bf7669c6-7cb5-4b9f-a402-17611d051508",
   "metadata": {},
   "outputs": [],
   "source": [
    "if not app.ci:\n",
    "    stiff_quad_session.animate(options=opts)"
   ]
  }
 ],
 "metadata": {
  "kernelspec": {
   "display_name": "Python 3 (ipykernel)",
   "language": "python",
   "name": "python3"
  },
  "language_info": {
   "codemirror_mode": {
    "name": "ipython",
    "version": 3
   },
   "file_extension": ".py",
   "mimetype": "text/x-python",
   "name": "python",
   "nbconvert_exporter": "python",
   "pygments_lexer": "ipython3",
   "version": "3.10.12"
  }
 },
 "nbformat": 4,
 "nbformat_minor": 5
}
