{
 "cells": [
  {
   "cell_type": "code",
   "execution_count": null,
   "id": "7db77fa0-f887-4f36-acc1-595551c6bdf8",
   "metadata": {},
   "outputs": [],
   "source": [
    "# File: curtain.ipynb\n",
    "# Author: Ryoichi Ando (ryoichi.ando@zozo.com)\n",
    "# License: Apache v2.0"
   ]
  },
  {
   "cell_type": "code",
   "execution_count": null,
   "id": "1341564f-3d1b-4674-b8c6-b6e4eb707764",
   "metadata": {},
   "outputs": [],
   "source": [
    "from frontend import App\n",
    "\n",
    "app = App.create()\n",
    "\n",
    "V, F = app.mesh.square(res=64, ex=[0, 0, 1], ey=[0, 1, 0])\n",
    "app.asset.add.tri(\"sheet\", V, F)\n",
    "\n",
    "V, F = app.mesh.icosphere(r=0.5, subdiv_count=4)\n",
    "app.asset.add.tri(\"sphere\", V, F)\n",
    "\n",
    "V, F = app.mesh.icosphere(r=0.25, subdiv_count=3)\n",
    "app.asset.add.tri(\"small-sphere\", V, F)\n",
    "\n",
    "scene = app.scene.create(\"curtain\")\n",
    "\n",
    "space = 0.25\n",
    "for i in range(15):\n",
    "    obj = scene.add(\"sheet\")\n",
    "    obj.at(i * space, 0, 0)\n",
    "    obj.direction([0, 1, 0], [0, 0, 1])\n",
    "    obj.pin(obj.grab([0, 1, 0]))\n",
    "\n",
    "(\n",
    "    scene.add(\"sphere\")\n",
    "    .color(0.75, 0.75, 0.75)\n",
    "    .at(-1, 0, 0)\n",
    "    .jitter()\n",
    "    .pin()\n",
    "    .move_by([8, 0, 0], 5)\n",
    "    .interp(\"linear\")\n",
    ")\n",
    "\n",
    "fixed = scene.build().report()\n",
    "fixed.preview()\n",
    "\n",
    "param = app.session.param()\n",
    "param.set(\"friction\", 0.0)"
   ]
  },
  {
   "cell_type": "code",
   "execution_count": null,
   "id": "cf30d202-48ac-4c37-b896-cbcf76432c76",
   "metadata": {},
   "outputs": [],
   "source": [
    "session = app.session.create(fixed)\n",
    "session.start(param).preview()\n",
    "session.stream()"
   ]
  },
  {
   "cell_type": "code",
   "execution_count": null,
   "id": "2aa65b45-4226-40cd-8e57-febbb11f6fe6",
   "metadata": {},
   "outputs": [],
   "source": [
    "session.animate()"
   ]
  },
  {
   "cell_type": "code",
   "execution_count": null,
   "id": "cb760aaa-cb65-476c-97f2-60891eda4b76",
   "metadata": {},
   "outputs": [],
   "source": [
    "session.export.animation()"
   ]
  },
  {
   "cell_type": "code",
   "execution_count": null,
   "id": "a728b4eb-916c-4f57-a485-c6c0e8e06c32",
   "metadata": {},
   "outputs": [],
   "source": [
    "# this is for CI\n",
    "assert session.finished()"
   ]
  }
 ],
 "metadata": {
  "kernelspec": {
   "display_name": "Python 3 (ipykernel)",
   "language": "python",
   "name": "python3"
  },
  "language_info": {
   "codemirror_mode": {
    "name": "ipython",
    "version": 3
   },
   "file_extension": ".py",
   "mimetype": "text/x-python",
   "name": "python",
   "nbconvert_exporter": "python",
   "pygments_lexer": "ipython3",
   "version": "3.10.12"
  }
 },
 "nbformat": 4,
 "nbformat_minor": 5
}
